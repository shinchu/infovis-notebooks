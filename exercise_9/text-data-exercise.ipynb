{
 "cells": [
  {
   "cell_type": "markdown",
   "id": "f3ef3f1e",
   "metadata": {},
   "source": [
    "# テキストデータの可視化の練習"
   ]
  },
  {
   "cell_type": "markdown",
   "id": "8261732d",
   "metadata": {},
   "source": [
    "『三四郎』は、夏目漱石の前記三部作と呼ばれる作品群の一部です。\n",
    "\n",
    "[『三四郎』](https://www.aozora.gr.jp/cards/000148/card794.html)（1909）・[『それから』](https://www.aozora.gr.jp/cards/000148/card1746.html)（1909）・[『門』](https://www.aozora.gr.jp/cards/000148/card785.html)（1910）の三部作を一つのコーパスとしてまとめて分析してみましょう。\n",
    "\n",
    "『三四郎』だけの分析と比べると、どのような特徴が出てくるでしょうか？"
   ]
  },
  {
   "cell_type": "markdown",
   "id": "e0a12dcf",
   "metadata": {},
   "source": [
    "## データの用意"
   ]
  },
  {
   "cell_type": "code",
   "execution_count": null,
   "id": "0f4004e2",
   "metadata": {},
   "outputs": [],
   "source": [
    "import sys\n",
    "\n",
    "# ファイルをダウンロードする\n",
    "!curl -O https://www.aozora.gr.jp/cards/000148/files/794_ruby_4237.zip\n",
    "!curl -O https://www.aozora.gr.jp/cards/000148/files/1746_ruby_18324.zip\n",
    "!curl -O https://www.aozora.gr.jp/cards/000148/files/785_ruby_1656.zip\n",
    "# textフォルダ作る\n",
    "if sys.platform == 'win32':\n",
    "    !mkdir text\n",
    "else:\n",
    "    !mkdir -p text\n",
    "# ファイルをtextフォルダに解凍\n",
    "!unzip -d text -o 794_ruby_4237.zip\n",
    "!unzip -d text -o 1746_ruby_18324.zip\n",
    "!unzip -d text -o 785_ruby_1656.zip"
   ]
  },
  {
   "cell_type": "code",
   "execution_count": null,
   "id": "c4512e6d",
   "metadata": {},
   "outputs": [],
   "source": [
    "# 青空文庫の記法を削除する\n",
    "\n",
    "import re\n",
    "\n",
    "input_fn = \"text/sanshiro.txt\"\n",
    "output_fn = \"text/sanshiro.stripruby.txt\"\n",
    "\n",
    "with open(input_fn, encoding=\"shift_jis\") as fin, \\\n",
    "     open(output_fn, mode=\"w\", encoding=\"utf-8\") as fout:\n",
    "    for line in fin:\n",
    "        fout.write(re.sub(r\"《[^》]+》|［[^］]+］|〔[^〕]+〕| [｜]\", \"\", line))"
   ]
  },
  {
   "cell_type": "code",
   "execution_count": null,
   "id": "eb27b025",
   "metadata": {},
   "outputs": [],
   "source": [
    "input_fn = \"text/sorekara.txt\"\n",
    "output_fn = \"text/sorekara.stripruby.txt\"\n",
    "\n",
    "with open(input_fn, encoding=\"shift_jis\") as fin, \\\n",
    "     open(output_fn, mode=\"w\", encoding=\"utf-8\") as fout:\n",
    "    for line in fin:\n",
    "        fout.write(re.sub(r\"《[^》]+》|［[^］]+］|〔[^〕]+〕| [｜]\", \"\", line))"
   ]
  },
  {
   "cell_type": "code",
   "execution_count": null,
   "id": "8aa4a898",
   "metadata": {},
   "outputs": [],
   "source": [
    "input_fn = \"text/mon.txt\"\n",
    "output_fn = \"text/mon.stripruby.txt\"\n",
    "\n",
    "with open(input_fn, encoding=\"shift_jis\") as fin, \\\n",
    "     open(output_fn, mode=\"w\", encoding=\"utf-8\") as fout:\n",
    "    for line in fin:\n",
    "        fout.write(re.sub(r\"《[^》]+》|［[^］]+］|〔[^〕]+〕| [｜]\", \"\", line))"
   ]
  },
  {
   "cell_type": "code",
   "execution_count": null,
   "id": "c8bfff10",
   "metadata": {},
   "outputs": [],
   "source": [
    "import sys\n",
    "\n",
    "# 冒頭と末尾の説明を取り除く（何行取り除くかは目視で確認）\n",
    "\n",
    "if sys.platform == \"darwin\":\n",
    "    !tail -n +22 text/sanshiro.stripruby.txt | ghead -n -14 > text/sanshiro.corpus.txt\n",
    "else:\n",
    "    !tail -n +22 text/sanshiro.stripruby.txt | head -n -14 > text/sanshiro.corpus.txt"
   ]
  },
  {
   "cell_type": "code",
   "execution_count": null,
   "id": "ecadd9b1",
   "metadata": {},
   "outputs": [],
   "source": [
    "if sys.platform == \"darwin\":\n",
    "    !tail -n +22 text/sorekara.stripruby.txt | ghead -n -14 > text/sorekara.corpus.txt\n",
    "else:\n",
    "    !tail -n +22 text/sorekara.stripruby.txt | head -n -14 > text/sorekara.corpus.txt"
   ]
  },
  {
   "cell_type": "code",
   "execution_count": null,
   "id": "5486ccee",
   "metadata": {},
   "outputs": [],
   "source": [
    "if sys.platform == \"darwin\":\n",
    "    !tail -n +18 text/mon.stripruby.txt | ghead -n -14 > text/mon.corpus.txt\n",
    "else:\n",
    "    !tail -n +18 text/mon.stripruby.txt | head -n -14 > text/mon.corpus.txt"
   ]
  },
  {
   "cell_type": "code",
   "execution_count": null,
   "id": "b7ef2963",
   "metadata": {},
   "outputs": [],
   "source": [
    "# 3つのファイルを統合する\n",
    "\n",
    "!cat text/sanshiro.corpus.txt text/sorekara.corpus.txt text/mon.corpus.txt > text/all.corpus.txt"
   ]
  },
  {
   "cell_type": "markdown",
   "id": "830bd4e0",
   "metadata": {},
   "source": [
    "これで、三作品をまとめて分析する準備ができました。\n",
    "\n",
    "演習の内容を参考にして、ワードクラウド、共起ネットワーク、共起ヒートマップを作ってみましょう。"
   ]
  },
  {
   "cell_type": "markdown",
   "id": "e985a215",
   "metadata": {},
   "source": [
    "## ワードクラウド"
   ]
  },
  {
   "cell_type": "code",
   "execution_count": null,
   "id": "e6e0941c",
   "metadata": {},
   "outputs": [],
   "source": [
    "# your code goes here"
   ]
  },
  {
   "cell_type": "markdown",
   "id": "018a9cb3",
   "metadata": {},
   "source": [
    "## 共起ネットワーク"
   ]
  },
  {
   "cell_type": "code",
   "execution_count": null,
   "id": "a6307261",
   "metadata": {},
   "outputs": [],
   "source": [
    "# your code goes here"
   ]
  },
  {
   "cell_type": "markdown",
   "id": "d7ac0ae4",
   "metadata": {},
   "source": [
    "## 共起ヒートマップ"
   ]
  },
  {
   "cell_type": "code",
   "execution_count": null,
   "id": "f4ad17ad",
   "metadata": {},
   "outputs": [],
   "source": [
    "# your code goes here"
   ]
  }
 ],
 "metadata": {
  "kernelspec": {
   "display_name": ".venv",
   "language": "python",
   "name": "python3"
  },
  "language_info": {
   "codemirror_mode": {
    "name": "ipython",
    "version": 3
   },
   "file_extension": ".py",
   "mimetype": "text/x-python",
   "name": "python",
   "nbconvert_exporter": "python",
   "pygments_lexer": "ipython3",
   "version": "3.12.3"
  }
 },
 "nbformat": 4,
 "nbformat_minor": 5
}
