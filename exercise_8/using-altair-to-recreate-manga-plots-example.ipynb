{
 "cells": [
  {
   "cell_type": "markdown",
   "id": "a92879f3",
   "metadata": {},
   "source": [
    "# Altairで「マンガ雑誌のデータ」の図を作り直す"
   ]
  },
  {
   "cell_type": "markdown",
   "id": "44dc45d7",
   "metadata": {},
   "source": [
    "今回は、文化庁の[メディア芸術データベース・ラボ（MADB Lab）](https://mediag.bunka.go.jp/madb_lab/)で公開されている四大少年誌（週刊少年サンデー、週刊少年ジャンプ、週刊少年チャンピオン、週刊少年マガジン）のデータを使って、量的データと質的データの可視化を練習します。\n",
    "\n",
    "まず、「四大少年誌それぞれの掲載作品のジャンルと著者にはどのような特徴があるのか？」という大きな問いを立て、可視化手法を学びながらデータを見て、具体的な問いを決めていきましょう。\n",
    "\n",
    "[マンガと学ぶデータビジュアライゼーション](https://kakeami.github.io/viz-madb/index.html)の内容を全面的に参考にし、一部改変しています。"
   ]
  },
  {
   "cell_type": "markdown",
   "id": "1a7aa910",
   "metadata": {},
   "source": [
    "[Plotlyで作られた図](./visualizing-quantitative-and-qualitative-data.ipynb)の中から、好きな図を3つ選んで、Altairで再現しましょう。\n",
    "\n",
    "再現する時には、変数の性質（名義、順序、間隔、比例）に注意して、どのタイプの図がどの変数をうまく扱えるかを考えてみましょう。\n",
    "\n",
    "複雑な図を再現したい時は、[Altair Example Gallery](https://altair-viz.github.io/gallery/index.html)を参考にしてみてください。"
   ]
  },
  {
   "cell_type": "markdown",
   "id": "2f0144b1",
   "metadata": {},
   "source": [
    "## ライブラリの読み込み"
   ]
  },
  {
   "cell_type": "code",
   "execution_count": null,
   "id": "4fbc3526",
   "metadata": {},
   "outputs": [],
   "source": [
    "# ライブラリのインストール。必要に応じてコメントアウトする。\n",
    "# !pip install altair\n",
    "# !pip install vl-convert-python"
   ]
  },
  {
   "cell_type": "code",
   "execution_count": null,
   "id": "018f7d95",
   "metadata": {},
   "outputs": [],
   "source": [
    "import pandas as pd\n",
    "\n",
    "import altair as alt"
   ]
  },
  {
   "cell_type": "code",
   "execution_count": null,
   "id": "476bdae1",
   "metadata": {},
   "outputs": [],
   "source": [
    "import itertools\n",
    "import warnings\n",
    "warnings.filterwarnings('ignore')"
   ]
  },
  {
   "cell_type": "code",
   "execution_count": null,
   "id": "351803ca",
   "metadata": {},
   "outputs": [],
   "source": [
    "# 5000行の制限をはずす\n",
    "alt.data_transformers.disable_max_rows()"
   ]
  },
  {
   "cell_type": "markdown",
   "id": "80181144",
   "metadata": {},
   "source": [
    "## 準備関数"
   ]
  },
  {
   "cell_type": "code",
   "execution_count": null,
   "id": "824154b1",
   "metadata": {},
   "outputs": [],
   "source": [
    "# weekdayを曜日に変換\n",
    "WD2STR = {\n",
    "    0: 'Mon.',\n",
    "    1: 'Tue.',\n",
    "    2: 'Wed.',\n",
    "    3: 'Thu.',\n",
    "    4: 'Fri.',\n",
    "    5: 'Sat.',\n",
    "    6: 'Sun.',}"
   ]
  },
  {
   "cell_type": "code",
   "execution_count": null,
   "id": "c7ffca46",
   "metadata": {},
   "outputs": [],
   "source": [
    "def add_years_to_df(df, unit_years=10):\n",
    "    \"\"\"unit_years単位で区切ったyears列を追加\"\"\"\n",
    "    df_new = df.copy()\n",
    "    df_new['years'] = \\\n",
    "        pd.to_datetime(df['datePublished']).dt.year \\\n",
    "        // unit_years * unit_years\n",
    "    df_new['years'] = df_new['years'].astype(str)\n",
    "    return df_new"
   ]
  },
  {
   "cell_type": "code",
   "execution_count": null,
   "id": "d060fcbb",
   "metadata": {},
   "outputs": [],
   "source": [
    "def add_weekday_to_df(df):\n",
    "    \"\"\"曜日情報をdfに追加\"\"\"\n",
    "    df_new = df.copy()\n",
    "    df_new['weekday'] = \\\n",
    "        pd.to_datetime(df_new['datePublished']).dt.weekday\n",
    "    df_new['weekday_str'] = df_new['weekday'].apply(\n",
    "        lambda x: WD2STR[x])\n",
    "    return df_new"
   ]
  },
  {
   "cell_type": "code",
   "execution_count": null,
   "id": "c4b2b5ac",
   "metadata": {},
   "outputs": [],
   "source": [
    "def add_mcid_to_df(df):\n",
    "    \"\"\"mcnameのindexをdfに追加\"\"\"\n",
    "    df_new = df.copy()\n",
    "    mcname2mcid = {\n",
    "        x: i for i, x in enumerate(df['mcname'].unique())}\n",
    "    df_new['mcid'] = df_new['mcname'].apply(\n",
    "        lambda x: mcname2mcid[x])\n",
    "    return df_new"
   ]
  },
  {
   "cell_type": "code",
   "execution_count": null,
   "id": "fe78c1d1",
   "metadata": {},
   "outputs": [],
   "source": [
    "def resample_df_by_cname_and_years(df):\n",
    "    \"\"\"cnameとyearsのすべての組み合わせが存在するように0埋め\n",
    "    この処理を実施しないと作図時にX軸方向の順序が変わってしまう\"\"\"\n",
    "    df_new = df.copy()\n",
    "    yearss = df['years'].unique()\n",
    "    cnames = df['cname'].unique()\n",
    "    for cname, years in itertools.product(cnames, yearss):\n",
    "        df_tmp = df_new[\n",
    "            (df_new['cname'] == cname)&\\\n",
    "            (df_new['years'] == years)]\n",
    "        if df_tmp.shape[0] == 0:\n",
    "            s = pd.DataFrame(\n",
    "                {'cname': cname,\n",
    "                 'years': years,\n",
    "                 'weeks': 0,},\n",
    "                index=df_tmp.columns)\n",
    "            df_new = pd.concat(\n",
    "                [df_new, s], ignore_index=True)\n",
    "    return df_new"
   ]
  },
  {
   "cell_type": "code",
   "execution_count": null,
   "id": "f708ba0d",
   "metadata": {},
   "outputs": [],
   "source": [
    "def resample_df_by_creator_and_years(df):\n",
    "    \"\"\"creatorとyearsのすべての組み合わせが存在するように0埋め\n",
    "    この処理を実施しないと作図時にX軸方向の順序が変わってしまう\"\"\"\n",
    "    df_new = df.copy()\n",
    "    yearss = df['years'].unique()\n",
    "    creators = df['creator'].unique()\n",
    "    for creator, years in itertools.product(creators, yearss):\n",
    "        df_tmp = df_new[\n",
    "            (df_new['creator'] == creator)&\\\n",
    "            (df_new['years'] == years)]\n",
    "        if df_tmp.shape[0] == 0:\n",
    "            s = pd.Series(\n",
    "                {'creator': creator,\n",
    "                 'years': years,\n",
    "                 'weeks': 0,},\n",
    "                index=df_tmp.columns)\n",
    "            df_new = pd.concat(\n",
    "                [df_new, s], ignore_index=True)\n",
    "    return df_new"
   ]
  },
  {
   "cell_type": "markdown",
   "id": "860c6585",
   "metadata": {},
   "source": [
    "## データの用意\n",
    "\n",
    "四大少年誌の`1970-07-27`から`2017-07-06`までの全ての掲載作品のデータを使います。\n",
    "\n",
    "すでに前処理がされているデータがあるので、そちらを使います。"
   ]
  },
  {
   "cell_type": "code",
   "execution_count": null,
   "id": "636aad5d",
   "metadata": {},
   "outputs": [],
   "source": [
    "file = \"./data/episodes.csv\""
   ]
  },
  {
   "cell_type": "code",
   "execution_count": null,
   "id": "e68fa0c8",
   "metadata": {},
   "outputs": [],
   "source": [
    "df = pd.read_csv(file)"
   ]
  },
  {
   "cell_type": "code",
   "execution_count": null,
   "id": "b8a15294",
   "metadata": {},
   "outputs": [],
   "source": [
    "df.shape"
   ]
  },
  {
   "cell_type": "markdown",
   "id": "947c9925",
   "metadata": {},
   "source": [
    "各週の掲載作品を一行ずつ格納しているため、合計で約18万行程度になります。"
   ]
  },
  {
   "cell_type": "code",
   "execution_count": null,
   "id": "377d9456",
   "metadata": {},
   "outputs": [],
   "source": [
    "df.columns"
   ]
  },
  {
   "cell_type": "markdown",
   "id": "1617c9de",
   "metadata": {},
   "source": [
    "- `mcname`: 雑誌名（**M**gazine **C**ollection **NAME**）\n",
    "- `miid`：雑誌巻号ID（**M**agazine **I**tem **ID**）\n",
    "- `miname`: 雑誌巻号名（**M**agazine **I**tem **NAME**）\n",
    "- `cid`: マンガ作品ID（**C**omic **ID**）\n",
    "- `cname`: マンガ作品名（**C**omic **NAME**）\n",
    "- `epname`: 各話タイトル（**EP**isode **NAME**）\n",
    "- `creator`: 作者名\n",
    "- `pageStart`: 開始ページ\n",
    "- `pageEnd`: 終了ページ\n",
    "- `numberOfPages`: 雑誌の合計ページ数\n",
    "- `datePublished`: 雑誌の発行日\n",
    "- `price`: 雑誌の価格\n",
    "- `publisher`: 雑誌の出版社\n",
    "- `editor`: 雑誌の編集者（編集長）\n",
    "- `pages`: 各話のページ数（`pageEnd` - `pageStart` + 1）\n",
    "- `pageEndMax`: 雑誌に掲載されているマンガ作品のうち，`pageEnd`の最大値\n",
    "- `pageStartPosition`: 各話の`pageStart`の相対的な位置（`pageStart` / `pageEndMax`）"
   ]
  },
  {
   "cell_type": "code",
   "execution_count": null,
   "id": "1095370b",
   "metadata": {},
   "outputs": [],
   "source": [
    "df.head()"
   ]
  },
  {
   "cell_type": "code",
   "execution_count": null,
   "id": "5601cb80",
   "metadata": {},
   "outputs": [],
   "source": [
    "df.describe()"
   ]
  },
  {
   "cell_type": "markdown",
   "id": "fecac2e1",
   "metadata": {},
   "source": [
    "欠損値を確認してみます。\n",
    "\n",
    "特に`epname`と`publisher`の欠測が多いことがわかります．"
   ]
  },
  {
   "cell_type": "code",
   "execution_count": null,
   "id": "4e058698",
   "metadata": {},
   "outputs": [],
   "source": [
    "df.isna().sum().reset_index()"
   ]
  },
  {
   "cell_type": "markdown",
   "id": "c97742bc",
   "metadata": {},
   "source": [
    "## デザインガイド\n",
    "\n",
    "* 図の構成要素\n",
    "    * 全体のサイズ：650〜900px\n",
    "    * 図番号：つけない\n",
    "    * タイトル：上部につける\n",
    "    * サブタイトル：タイトル下部につける\n",
    "    * 軸タイトル：つける\n",
    "    * 軸ラベル：つける\n",
    "    * 軸と目盛り：つける\n",
    "    * グリッド線：横方向のみつける\n",
    "    * データソース・注記：下部につける\n",
    "    * ロゴ：つけない\n",
    "    * 凡例：必要に応じてつける\n",
    "    * ラベル：必要に応じてつける\n",
    "* 色\n",
    "    * データに基づいてカラースケールを決める\n",
    "    * CVDセーフな配色を使う\n",
    "* 書体\n",
    "    * キャプション：源ノ角ゴシック\n",
    "    * ラベル：Input Mono Condensed\n",
    "* 保存形式：PDF\n",
    "* アクセシビリティ：\n",
    "    * 文字を大きくする\n",
    "    * 行間を開ける\n",
    "    * CVDセーフな配色を使う"
   ]
  },
  {
   "cell_type": "code",
   "execution_count": null,
   "id": "a7f3de70",
   "metadata": {},
   "outputs": [],
   "source": [
    "ud_colors = [\"#e69f00\", \"#56b4e9\", \"#009e73\", \"#f0e442\", \"#0072b2\", \"#d55e00\", \"#cc79a7\"]"
   ]
  },
  {
   "cell_type": "markdown",
   "id": "966be9c4",
   "metadata": {},
   "source": [
    "## （例）Altairで再現1：作品別・年代別の掲載週数（上位20作品）"
   ]
  },
  {
   "cell_type": "code",
   "execution_count": null,
   "id": "fc175663",
   "metadata": {},
   "outputs": [],
   "source": [
    "# dfに10年区切りの年代情報を追加\n",
    "df = add_years_to_df(df)"
   ]
  },
  {
   "cell_type": "code",
   "execution_count": null,
   "id": "822cc3c3",
   "metadata": {},
   "outputs": [],
   "source": [
    "# プロット用に集計\n",
    "df_plot = df.groupby('cname')['years'].value_counts().\\\n",
    "    reset_index(name='weeks')\n",
    "# 連載週数上位10作品を抽出\n",
    "cnames = list(df.value_counts('cname').head(20).index)\n",
    "df_plot = df_plot[df_plot['cname'].isin(cnames)].\\\n",
    "    reset_index(drop=True)\n",
    "# cname，yearsでアップサンプリング\n",
    "df_plot = resample_df_by_cname_and_years(df_plot)"
   ]
  },
  {
   "cell_type": "code",
   "execution_count": null,
   "id": "ea540365",
   "metadata": {},
   "outputs": [],
   "source": [
    "# 合計連載週数で降順ソート\n",
    "df_plot['order'] = df_plot['cname'].apply(\n",
    "    lambda x: cnames.index(x))\n",
    "df_plot = df_plot.sort_values(\n",
    "    ['order', 'years'], ignore_index=True)"
   ]
  },
  {
   "cell_type": "code",
   "execution_count": null,
   "id": "426f8eca",
   "metadata": {},
   "outputs": [],
   "source": [
    "# 自分のシステムに応じてフォント名を書き換えてください\n",
    "\n",
    "## macOS\n",
    "## 以下のフォントは下記URLからダウンロードできます\n",
    "## IBM Plex Mono: https://fonts.google.com/specimen/IBM+Plex+Mono\n",
    "## Noto Sans Japanese: https://fonts.google.com/noto/specimen/Noto+Sans+JP\n",
    "## お好みで自分のシステムに入っているフォントを使ってください\n",
    "## フォント名はFont Book.appで確認できます\n",
    "## 新しくフォントをインストールした後は、VS Codeを再起動してください\n",
    "label_font = \"IBM Plex Mono\"\n",
    "caption_font = \"Noto Sans JP\"\n",
    "\n",
    "## Ubuntu/WSL\n",
    "## sudo apt install fonts-noto-cjk\n",
    "## 上記コマンドでフォントをインストールし、VS Codeを再起動してください\n",
    "## fc-list\n",
    "## でインストール済みのフォントを確認することができます\n",
    "# label_font = \"Ubuntu Sans Mono\"\n",
    "# caption_font = \"Noto Sans CJK JP\"\n",
    "\n",
    "## Windows (Git Bash)\n",
    "## 「コントロールパネル > デスクトップのカスタマイズ > フォント」からフォント名を確認することができます\n",
    "## 新しくフォントをインストールした後は、VS Codeを再起動してください\n",
    "# label_font = \"Consolas\"\n",
    "# caption_font = \"BIZ UDゴシック\"\n",
    "\n",
    "## 参考：https://infovis.zhuxinru.com/misc/fonts"
   ]
  },
  {
   "cell_type": "code",
   "execution_count": null,
   "id": "46d91891",
   "metadata": {},
   "outputs": [],
   "source": [
    "chart = alt.Chart(df_plot).mark_bar().encode(\n",
    "    alt.X(\"cname:N\", sort=\"-y\", title=\"作品名\", axis=alt.Axis(grid=False, labelPadding=10, labelLimit=200)),\n",
    "    alt.Y(\"weeks:Q\", title=\"掲載週数\", axis=alt.Axis(grid=True, titleX=-50, labelFont=label_font)),\n",
    "    alt.XOffset(\"years:N\"),\n",
    "    alt.Color(\"years:N\", title=\"年代\", scale=alt.Scale(range=ud_colors)),\n",
    "    alt.Tooltip([\"weeks\"])\n",
    ").properties(\n",
    "    title=\"作品別・年代別の掲載週数（上位20作品）\",\n",
    "    width=900\n",
    ").configure_axis(\n",
    "    labelFont=caption_font,\n",
    "    labelFontSize=14,\n",
    "    titleFont=caption_font,\n",
    "    titleFontSize=16\n",
    ").configure_title(\n",
    "    font=caption_font,\n",
    "    fontSize=18\n",
    ").configure_legend(\n",
    "    labelFont=label_font,\n",
    "    labelFontSize=14,\n",
    "    titleFont=caption_font,\n",
    "    titleFontSize=16\n",
    ")\n",
    "\n",
    "chart.save(\"./figs/weeks_by_cname_and_years.pdf\")\n",
    "chart.save(\"./figs/weeks_by_cname_and_years.png\", scale_factor=1.0)"
   ]
  },
  {
   "cell_type": "code",
   "execution_count": null,
   "id": "e37cf604",
   "metadata": {},
   "outputs": [],
   "source": [
    "chart"
   ]
  },
  {
   "cell_type": "markdown",
   "id": "aec1f31e",
   "metadata": {},
   "source": [
    "## （例）Altairで再現2：雑誌別の年毎のエピソード数の推移"
   ]
  },
  {
   "cell_type": "code",
   "execution_count": null,
   "id": "326e5bcb",
   "metadata": {},
   "outputs": [],
   "source": [
    "# 1年単位で区切ったyearsを追加\n",
    "df = add_years_to_df(df, 1)"
   ]
  },
  {
   "cell_type": "code",
   "execution_count": null,
   "id": "98aff95c",
   "metadata": {},
   "outputs": [],
   "source": [
    "df_plot = df.groupby([\"years\", \"mcname\"])[\"cname\"].count().reset_index(name=\"count\")"
   ]
  },
  {
   "cell_type": "code",
   "execution_count": null,
   "id": "ef97f6c8",
   "metadata": {},
   "outputs": [],
   "source": [
    "chart = alt.Chart(df_plot).mark_line().encode(\n",
    "    alt.X(\"years:O\", title=\"年代\", axis=alt.Axis(grid=False)),\n",
    "    alt.Y(\"count:Q\", title=\"作品数\", axis=alt.Axis(grid=True, titleX=-50)),\n",
    "    alt.Color(\"mcname:N\", title=\"雑誌名\", scale=alt.Scale(range=ud_colors)),\n",
    ").properties(\n",
    "    title=\"雑誌別の年毎のエピソード数の推移\",\n",
    "    width=800\n",
    ").configure_axis(\n",
    "    labelFont=label_font,\n",
    "    labelFontSize=14,\n",
    "    titleFont=caption_font,\n",
    "    titleFontSize=16\n",
    ").configure_title(\n",
    "    font=caption_font,\n",
    "    fontSize=18\n",
    ").configure_legend(\n",
    "    labelFont=caption_font,\n",
    "    labelFontSize=14,\n",
    "    titleFont=caption_font,\n",
    "    titleFontSize=16\n",
    ")\n",
    "\n",
    "chart.save(\"./figs/episodes_by_years_and_mcname.pdf\")"
   ]
  },
  {
   "cell_type": "code",
   "execution_count": null,
   "id": "ae8c1e2f",
   "metadata": {},
   "outputs": [],
   "source": [
    "chart"
   ]
  },
  {
   "cell_type": "markdown",
   "id": "1b913932",
   "metadata": {},
   "source": [
    "---\n",
    "\n",
    "この演習は以上です。"
   ]
  }
 ],
 "metadata": {
  "kernelspec": {
   "display_name": ".venv",
   "language": "python",
   "name": "python3"
  },
  "language_info": {
   "codemirror_mode": {
    "name": "ipython",
    "version": 3
   },
   "file_extension": ".py",
   "mimetype": "text/x-python",
   "name": "python",
   "nbconvert_exporter": "python",
   "pygments_lexer": "ipython3",
   "version": "3.12.3"
  }
 },
 "nbformat": 4,
 "nbformat_minor": 5
}
